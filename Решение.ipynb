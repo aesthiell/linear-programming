{
  "nbformat": 4,
  "nbformat_minor": 0,
  "metadata": {
    "colab": {
      "name": "Lin.ipynb",
      "provenance": []
    },
    "kernelspec": {
      "name": "python3",
      "display_name": "Python 3"
    },
    "language_info": {
      "name": "python"
    }
  },
  "cells": [
    {
      "cell_type": "code",
      "execution_count": 350,
      "metadata": {
        "id": "LpybWdCPxh9L"
      },
      "outputs": [],
      "source": [
        "import scipy.optimize as opt"
      ]
    },
    {
      "cell_type": "code",
      "source": [
        "import numpy as np"
      ],
      "metadata": {
        "id": "d6NaBj5Wxuyp"
      },
      "execution_count": 351,
      "outputs": []
    },
    {
      "cell_type": "code",
      "source": [
        "coord = [\n",
        " [x1,y1],\n",
        " [x2,y2],\n",
        "  [x3,y3],\n",
        "  [x4,y4]\n",
        " ] = np.random.rand(4,2)"
      ],
      "metadata": {
        "id": "wrXTDHs5L9Xe"
      },
      "execution_count": 352,
      "outputs": []
    },
    {
      "cell_type": "code",
      "source": [
        "coord"
      ],
      "metadata": {
        "colab": {
          "base_uri": "https://localhost:8080/",
          "height": 0
        },
        "id": "byksZig0ldVU",
        "outputId": "d1b4ec96-8500-4420-e4e1-44279d4c9f3b"
      },
      "execution_count": 353,
      "outputs": [
        {
          "output_type": "execute_result",
          "data": {
            "text/plain": [
              "array([[0.04632109, 0.19339814],\n",
              "       [0.23089857, 0.3883741 ],\n",
              "       [0.25763443, 0.98877655],\n",
              "       [0.00282756, 0.94341808]])"
            ]
          },
          "metadata": {},
          "execution_count": 353
        }
      ]
    },
    {
      "cell_type": "code",
      "source": [
        "C = [1,1,1,1,1,1,1,1,1,1,1,1,1,1,1,1,0,0,0,0]"
      ],
      "metadata": {
        "id": "dedddpV_OC-p"
      },
      "execution_count": 354,
      "outputs": []
    },
    {
      "cell_type": "code",
      "source": [
        "lhs_ineq = [\n",
        "            [-1,0,0,0,0,0,0,0,0,0,0,0,0,0,0,0,1,0,0,0],\n",
        "            [0,-1,0,0,0,0,0,0,0,0,0,0,0,0,0,0,1,0,0,0],\n",
        "            [0,0,-1,0,0,0,0,0,0,0,0,0,0,0,0,0,1,0,0,0],\n",
        "            [0,0,0,-1,0,0,0,0,0,0,0,0,0,0,0,0,1,0,0,0],\n",
        "            [-1,0,0,0,0,0,0,0,0,0,0,0,0,0,0,0,-1,0,0,0],\n",
        "            [0,-1,0,0,0,0,0,0,0,0,0,0,0,0,0,0,-1,0,0,0],\n",
        "            [0,0,-1,0,0,0,0,0,0,0,0,0,0,0,0,0,-1,0,0,0],\n",
        "            [0,0,0,-1,0,0,0,0,0,0,0,0,0,0,0,0,-1,0,0,0],\n",
        "            [0,0,0,0,-1,0,0,0,0,0,0,0,0,0,0,0,0,0,1,0],\n",
        "            [0,0,0,0,0,-1,0,0,0,0,0,0,0,0,0,0,0,0,1,0],\n",
        "            [0,0,0,0,0,0,-1,0,0,0,0,0,0,0,0,0,0,0,1,0],\n",
        "            [0,0,0,0,0,0,0,-1,0,0,0,0,0,0,0,0,0,0,1,0],\n",
        "            [0,0,0,0,-1,0,0,0,0,0,0,0,0,0,0,0,0,0,-1,0],\n",
        "            [0,0,0,0,0,-1,0,0,0,0,0,0,0,0,0,0,0,0,-1,0],\n",
        "            [0,0,0,0,0,0,-1,0,0,0,0,0,0,0,0,0,0,0,-1,0],\n",
        "            [0,0,0,0,0,0,0,-1,0,0,0,0,0,0,0,0,0,0,-1,0],\n",
        "            [0,0,0,0,0,0,0,0,-1,0,0,0,0,0,0,0,0,1,0,0],\n",
        "            [0,0,0,0,0,0,0,0,0,-1,0,0,0,0,0,0,0,1,0,0],\n",
        "            [0,0,0,0,0,0,0,0,0,0,-1,0,0,0,0,0,0,1,0,0],\n",
        "            [0,0,0,0,0,0,0,0,0,0,0,-1,0,0,0,0,0,1,0,0],\n",
        "            [0,0,0,0,0,0,0,0,-1,0,0,0,0,0,0,0,0,-1,0,0],\n",
        "            [0,0,0,0,0,0,0,0,0,-1,0,0,0,0,0,0,0,-1,0,0],\n",
        "            [0,0,0,0,0,0,0,0,0,0,-1,0,0,0,0,0,0,-1,0,0],\n",
        "            [0,0,0,0,0,0,0,0,0,0,0,-1,0,0,0,0,0,-1,0,0],\n",
        "            [0,0,0,0,0,0,0,0,0,0,0,0,-1,0,0,0,0,0,0,1],\n",
        "            [0,0,0,0,0,0,0,0,0,0,0,0,0,-1,0,0,0,0,0,1],\n",
        "            [0,0,0,0,0,0,0,0,0,0,0,0,0,0,-1,0,0,0,0,1],\n",
        "            [0,0,0,0,0,0,0,0,0,0,0,0,0,0,0,-1,0,0,0,1],\n",
        "            [0,0,0,0,0,0,0,0,0,0,0,0,-1,0,0,0,0,0,0,-1],\n",
        "            [0,0,0,0,0,0,0,0,0,0,0,0,0,-1,0,0,0,0,0,-1],\n",
        "            [0,0,0,0,0,0,0,0,0,0,0,0,0,0,-1,0,0,0,0,-1],\n",
        "            [0,0,0,0,0,0,0,0,0,0,0,0,0,0,0,-1,0,0,0,-1]\n",
        "]"
      ],
      "metadata": {
        "id": "rDrxbAw5O4f9"
      },
      "execution_count": 355,
      "outputs": []
    },
    {
      "cell_type": "code",
      "source": [
        "rhs_ineq = [x1,x2,x3,x4,-x1,-x2,-x3,-x4,x1,x2,x3,x4,-x1,-x2,-x3,-x4,y1,y2,y3,y4,-y1,-y2,-y3,-y4,y1,y2,y3,y4,-y1,-y2,-y3,-y4]"
      ],
      "metadata": {
        "id": "AQBkHIJudkHT"
      },
      "execution_count": 356,
      "outputs": []
    },
    {
      "cell_type": "code",
      "source": [
        "lhs_eq = np.zeros((1,20))"
      ],
      "metadata": {
        "id": "c44JE7rtehPY"
      },
      "execution_count": 357,
      "outputs": []
    },
    {
      "cell_type": "code",
      "source": [
        "rhs_eq = [0]"
      ],
      "metadata": {
        "id": "qiLlJ-2nfh_N"
      },
      "execution_count": 358,
      "outputs": []
    },
    {
      "cell_type": "code",
      "source": [
        "bnds = [[0,1] for i in range(20)]"
      ],
      "metadata": {
        "id": "1vYChIBIgjW3"
      },
      "execution_count": 359,
      "outputs": []
    },
    {
      "cell_type": "code",
      "source": [
        "bnds[16:20] = [[0,0.5],[0,0.5],[0.5,1],[0.5,1]]"
      ],
      "metadata": {
        "id": "YLBRDx759EH4"
      },
      "execution_count": 360,
      "outputs": []
    },
    {
      "cell_type": "code",
      "source": [
        "lin = opt.linprog(c=C, A_ub=lhs_ineq, b_ub=rhs_ineq,\n",
        "               A_eq=lhs_eq, b_eq=rhs_eq, bounds=bnds,\n",
        "               method=\"revised simplex\")"
      ],
      "metadata": {
        "id": "SyG0TJV-i1xL"
      },
      "execution_count": 361,
      "outputs": []
    },
    {
      "cell_type": "code",
      "source": [
        "print('distance: ',lin.fun)\n",
        "print('solution found: ',lin.success)\n",
        "print('variables optimal values: ',lin.x)\n",
        "print('1st spot coordinates: (',lin.x[16],',',lin.x[17],')')\n",
        "print('2nd spot coordinates: (',lin.x[18],',',lin.x[19],')')"
      ],
      "metadata": {
        "colab": {
          "base_uri": "https://localhost:8080/",
          "height": 0
        },
        "id": "11xYoRpGkT2f",
        "outputId": "236d3576-9b4c-4026-fcdc-a31ee1fa47d8"
      },
      "execution_count": 362,
      "outputs": [
        {
          "output_type": "stream",
          "name": "stdout",
          "text": [
            "distance:  4.602547460675344\n",
            "solution found:  True\n",
            "variables optimal values:  [0.         0.18457748 0.21131333 0.04349353 0.45367891 0.26910143\n",
            " 0.24236557 0.49717244 0.19497596 0.         0.60040245 0.55504398\n",
            " 0.75001993 0.55504398 0.04535847 0.         0.04632109 0.3883741\n",
            " 0.5        0.94341808]\n",
            "1st spot coordinates: ( 0.04632109282408681 , 0.38837410091720537 )\n",
            "2nd spot coordinates: ( 0.5 , 0.9434180764696619 )\n"
          ]
        }
      ]
    }
  ]
}